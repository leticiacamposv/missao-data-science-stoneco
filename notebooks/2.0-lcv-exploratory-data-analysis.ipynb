{
 "cells": [
  {
   "cell_type": "code",
   "execution_count": 5,
   "metadata": {},
   "outputs": [],
   "source": [
    "# Todo: sweet viz no final\n",
    "# Testes estatísticos pra ver se as variáveis explicam o alvo e outros (teste de distribuição, normalidade)\n",
    "# Criar pipeline pra essa ETL\n",
    "# Separar ETAPAS de ETL, EDA e modelagem"
   ]
  },
  {
   "cell_type": "markdown",
   "metadata": {},
   "source": [
    "# EDA (Exploratory Data Analysis)"
   ]
  },
  {
   "cell_type": "markdown",
   "metadata": {},
   "source": [
    "## 1. Objetivo do notebook"
   ]
  },
  {
   "cell_type": "markdown",
   "metadata": {},
   "source": [
    "Realizar análise exploratória dos dados respondendo as seguintes perguntas:\n",
    "\n",
    "- Qual é o comportamento transacional do cliente (o que caracteriza as transações deste cliente)?\n",
    "\n",
    "- Qual é o perfil das transações que retornaram chargeback?\n",
    "\n",
    "Além disso, realizar análises \n",
    "\n",
    "<u>Outputs</u>: PDF report e imagens em reports"
   ]
  },
  {
   "cell_type": "markdown",
   "metadata": {},
   "source": [
    "## 2. Carregamento das bibliotecas e dados"
   ]
  },
  {
   "cell_type": "code",
   "execution_count": 6,
   "metadata": {},
   "outputs": [],
   "source": [
    "import pandas as pd\n",
    "import matplotlib.pyplot as plt\n",
    "import seaborn as sns\n",
    "import sweetviz as sv"
   ]
  },
  {
   "cell_type": "code",
   "execution_count": 7,
   "metadata": {},
   "outputs": [],
   "source": [
    "df = pd.read_csv('../data/processed/card_transactions_cbk_prepared.csv')"
   ]
  },
  {
   "cell_type": "markdown",
   "metadata": {},
   "source": [
    "## 3. Análises por target (CBK)"
   ]
  },
  {
   "cell_type": "markdown",
   "metadata": {},
   "source": [
    "### 3.1 Comportamento transacional do cliente/solicitante de chargeback"
   ]
  },
  {
   "cell_type": "markdown",
   "metadata": {},
   "source": [
    "Período do dia"
   ]
  },
  {
   "cell_type": "code",
   "execution_count": 8,
   "metadata": {},
   "outputs": [
    {
     "data": {
      "text/html": [
       "<div>\n",
       "<style scoped>\n",
       "    .dataframe tbody tr th:only-of-type {\n",
       "        vertical-align: middle;\n",
       "    }\n",
       "\n",
       "    .dataframe tbody tr th {\n",
       "        vertical-align: top;\n",
       "    }\n",
       "\n",
       "    .dataframe thead th {\n",
       "        text-align: right;\n",
       "    }\n",
       "</style>\n",
       "<table border=\"1\" class=\"dataframe\">\n",
       "  <thead>\n",
       "    <tr style=\"text-align: right;\">\n",
       "      <th></th>\n",
       "      <th>Dia</th>\n",
       "      <th>Valor</th>\n",
       "      <th>Cartão</th>\n",
       "      <th>CBK</th>\n",
       "      <th>periodo_do_dia</th>\n",
       "      <th>dia_da_semana</th>\n",
       "      <th>flag_feriado</th>\n",
       "      <th>bandeira_cartao</th>\n",
       "      <th>emissor_cartao</th>\n",
       "    </tr>\n",
       "  </thead>\n",
       "  <tbody>\n",
       "    <tr>\n",
       "      <th>0</th>\n",
       "      <td>2015-05-01</td>\n",
       "      <td>36.54</td>\n",
       "      <td>536518******2108</td>\n",
       "      <td>0</td>\n",
       "      <td>madrugada</td>\n",
       "      <td>Sexta-feira</td>\n",
       "      <td>1</td>\n",
       "      <td>5</td>\n",
       "      <td>36518</td>\n",
       "    </tr>\n",
       "    <tr>\n",
       "      <th>1</th>\n",
       "      <td>2015-05-01</td>\n",
       "      <td>36.54</td>\n",
       "      <td>536518******2108</td>\n",
       "      <td>0</td>\n",
       "      <td>madrugada</td>\n",
       "      <td>Sexta-feira</td>\n",
       "      <td>1</td>\n",
       "      <td>5</td>\n",
       "      <td>36518</td>\n",
       "    </tr>\n",
       "    <tr>\n",
       "      <th>2</th>\n",
       "      <td>2015-05-01</td>\n",
       "      <td>69.00</td>\n",
       "      <td>453211******1239</td>\n",
       "      <td>0</td>\n",
       "      <td>madrugada</td>\n",
       "      <td>Sexta-feira</td>\n",
       "      <td>1</td>\n",
       "      <td>4</td>\n",
       "      <td>53211</td>\n",
       "    </tr>\n",
       "    <tr>\n",
       "      <th>3</th>\n",
       "      <td>2015-05-01</td>\n",
       "      <td>193.43</td>\n",
       "      <td>548827******1705</td>\n",
       "      <td>0</td>\n",
       "      <td>madrugada</td>\n",
       "      <td>Sexta-feira</td>\n",
       "      <td>1</td>\n",
       "      <td>5</td>\n",
       "      <td>48827</td>\n",
       "    </tr>\n",
       "    <tr>\n",
       "      <th>4</th>\n",
       "      <td>2015-05-01</td>\n",
       "      <td>132.00</td>\n",
       "      <td>531681******9778</td>\n",
       "      <td>0</td>\n",
       "      <td>madrugada</td>\n",
       "      <td>Sexta-feira</td>\n",
       "      <td>1</td>\n",
       "      <td>5</td>\n",
       "      <td>31681</td>\n",
       "    </tr>\n",
       "  </tbody>\n",
       "</table>\n",
       "</div>"
      ],
      "text/plain": [
       "          Dia   Valor            Cartão  CBK periodo_do_dia dia_da_semana  \\\n",
       "0  2015-05-01   36.54  536518******2108    0      madrugada   Sexta-feira   \n",
       "1  2015-05-01   36.54  536518******2108    0      madrugada   Sexta-feira   \n",
       "2  2015-05-01   69.00  453211******1239    0      madrugada   Sexta-feira   \n",
       "3  2015-05-01  193.43  548827******1705    0      madrugada   Sexta-feira   \n",
       "4  2015-05-01  132.00  531681******9778    0      madrugada   Sexta-feira   \n",
       "\n",
       "   flag_feriado  bandeira_cartao  emissor_cartao  \n",
       "0             1                5           36518  \n",
       "1             1                5           36518  \n",
       "2             1                4           53211  \n",
       "3             1                5           48827  \n",
       "4             1                5           31681  "
      ]
     },
     "execution_count": 8,
     "metadata": {},
     "output_type": "execute_result"
    }
   ],
   "source": [
    "df.head()"
   ]
  }
 ],
 "metadata": {
  "kernelspec": {
   "display_name": ".venv",
   "language": "python",
   "name": "python3"
  },
  "language_info": {
   "codemirror_mode": {
    "name": "ipython",
    "version": 3
   },
   "file_extension": ".py",
   "mimetype": "text/x-python",
   "name": "python",
   "nbconvert_exporter": "python",
   "pygments_lexer": "ipython3",
   "version": "3.9.2"
  }
 },
 "nbformat": 4,
 "nbformat_minor": 2
}
