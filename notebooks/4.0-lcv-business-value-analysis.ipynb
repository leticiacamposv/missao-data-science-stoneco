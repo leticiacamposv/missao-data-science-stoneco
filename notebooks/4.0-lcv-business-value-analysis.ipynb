{
 "cells": [
  {
   "cell_type": "code",
   "execution_count": 1,
   "metadata": {},
   "outputs": [],
   "source": [
    "import sys\n",
    "sys.path.append('..')\n",
    "from src.data.make_dataset import data_preparation\n",
    "from src.features.build_features import cbk_feature_engineering"
   ]
  },
  {
   "cell_type": "code",
   "execution_count": 2,
   "metadata": {},
   "outputs": [],
   "source": [
    "import pandas as pd\n",
    "import joblib\n",
    "import numpy as np"
   ]
  },
  {
   "cell_type": "markdown",
   "metadata": {},
   "source": [
    "# 1. Load and preprocess data"
   ]
  },
  {
   "cell_type": "code",
   "execution_count": 3,
   "metadata": {},
   "outputs": [],
   "source": [
    "unlabeled_data = pd.read_excel('../data/raw/Missão_Stone_-_Dados_de_trx_(3).xlsx', engine='openpyxl', sheet_name='Aba 2')"
   ]
  },
  {
   "cell_type": "code",
   "execution_count": 4,
   "metadata": {},
   "outputs": [],
   "source": [
    "def cbk_data_prep(df, test=False):\n",
    "    df = data_preparation(df, test)\n",
    "    df = cbk_feature_engineering(df)\n",
    "    return df\n",
    "\n",
    "processed_test = cbk_data_prep(unlabeled_data, test=True)"
   ]
  },
  {
   "cell_type": "code",
   "execution_count": 5,
   "metadata": {},
   "outputs": [],
   "source": [
    "for col in ['periodo_do_dia', 'dia_da_semana', 'emissor_cartao']:\n",
    "    processed_test[col] = processed_test[col].astype('category')"
   ]
  },
  {
   "cell_type": "markdown",
   "metadata": {},
   "source": [
    "## 1.1 Model results"
   ]
  },
  {
   "cell_type": "code",
   "execution_count": 6,
   "metadata": {},
   "outputs": [
    {
     "data": {
      "text/html": [
       "<div>\n",
       "<style scoped>\n",
       "    .dataframe tbody tr th:only-of-type {\n",
       "        vertical-align: middle;\n",
       "    }\n",
       "\n",
       "    .dataframe tbody tr th {\n",
       "        vertical-align: top;\n",
       "    }\n",
       "\n",
       "    .dataframe thead th {\n",
       "        text-align: right;\n",
       "    }\n",
       "</style>\n",
       "<table border=\"1\" class=\"dataframe\">\n",
       "  <thead>\n",
       "    <tr style=\"text-align: right;\">\n",
       "      <th></th>\n",
       "      <th>Accuracy</th>\n",
       "      <th>Precision</th>\n",
       "      <th>Recall</th>\n",
       "      <th>F1-Score</th>\n",
       "      <th>AUC-ROC</th>\n",
       "      <th>KS</th>\n",
       "      <th>opt_prob_cutoff</th>\n",
       "    </tr>\n",
       "  </thead>\n",
       "  <tbody>\n",
       "    <tr>\n",
       "      <th>0</th>\n",
       "      <td>86.14</td>\n",
       "      <td>23.4</td>\n",
       "      <td>83.81</td>\n",
       "      <td>36.59</td>\n",
       "      <td>85.03</td>\n",
       "      <td>70.07</td>\n",
       "      <td>0.031236</td>\n",
       "    </tr>\n",
       "  </tbody>\n",
       "</table>\n",
       "</div>"
      ],
      "text/plain": [
       "   Accuracy  Precision  Recall  F1-Score  AUC-ROC     KS  opt_prob_cutoff\n",
       "0     86.14       23.4   83.81     36.59    85.03  70.07         0.031236"
      ]
     },
     "execution_count": 6,
     "metadata": {},
     "output_type": "execute_result"
    }
   ],
   "source": [
    "results = pd.read_csv(f'../models/results_model_2024-06-10_13h34m.csv')\n",
    "results"
   ]
  },
  {
   "cell_type": "markdown",
   "metadata": {},
   "source": [
    "# 2. Predict"
   ]
  },
  {
   "cell_type": "code",
   "execution_count": 7,
   "metadata": {},
   "outputs": [
    {
     "data": {
      "text/plain": [
       "0.0312358652774534"
      ]
     },
     "execution_count": 7,
     "metadata": {},
     "output_type": "execute_result"
    }
   ],
   "source": [
    "results['opt_prob_cutoff'][0]"
   ]
  },
  {
   "cell_type": "code",
   "execution_count": 8,
   "metadata": {},
   "outputs": [],
   "source": [
    "model = joblib.load('../models/model_2024-06-10_13h34m.pkl')\n",
    "y_pred_prob = model.predict_proba(processed_test.drop(columns='CBK'))[:,1]\n",
    "y_pred_class = (y_pred_prob >= results['opt_prob_cutoff'][0]).astype(\"int\")\n",
    "y_pred = pd.DataFrame(y_pred_class, columns=['predicted_CBK'])\n",
    "y_pred_proba = pd.DataFrame(y_pred_prob, columns=['predicted_CBK_proba'])"
   ]
  },
  {
   "cell_type": "code",
   "execution_count": 9,
   "metadata": {},
   "outputs": [
    {
     "data": {
      "text/html": [
       "<div>\n",
       "<style scoped>\n",
       "    .dataframe tbody tr th:only-of-type {\n",
       "        vertical-align: middle;\n",
       "    }\n",
       "\n",
       "    .dataframe tbody tr th {\n",
       "        vertical-align: top;\n",
       "    }\n",
       "\n",
       "    .dataframe thead th {\n",
       "        text-align: right;\n",
       "    }\n",
       "</style>\n",
       "<table border=\"1\" class=\"dataframe\">\n",
       "  <thead>\n",
       "    <tr style=\"text-align: right;\">\n",
       "      <th></th>\n",
       "      <th>Valor</th>\n",
       "      <th>periodo_do_dia</th>\n",
       "      <th>dia_da_semana</th>\n",
       "      <th>emissor_cartao</th>\n",
       "      <th>predicted_CBK</th>\n",
       "      <th>predicted_CBK_proba</th>\n",
       "    </tr>\n",
       "  </thead>\n",
       "  <tbody>\n",
       "    <tr>\n",
       "      <th>0</th>\n",
       "      <td>112.00</td>\n",
       "      <td>madrugada</td>\n",
       "      <td>Segunda-feira</td>\n",
       "      <td>41555</td>\n",
       "      <td>0</td>\n",
       "      <td>0.015386</td>\n",
       "    </tr>\n",
       "    <tr>\n",
       "      <th>1</th>\n",
       "      <td>112.00</td>\n",
       "      <td>madrugada</td>\n",
       "      <td>Segunda-feira</td>\n",
       "      <td>06669</td>\n",
       "      <td>0</td>\n",
       "      <td>0.001894</td>\n",
       "    </tr>\n",
       "    <tr>\n",
       "      <th>2</th>\n",
       "      <td>18.34</td>\n",
       "      <td>madrugada</td>\n",
       "      <td>Segunda-feira</td>\n",
       "      <td>41187</td>\n",
       "      <td>0</td>\n",
       "      <td>0.006643</td>\n",
       "    </tr>\n",
       "  </tbody>\n",
       "</table>\n",
       "</div>"
      ],
      "text/plain": [
       "    Valor periodo_do_dia  dia_da_semana emissor_cartao  predicted_CBK  \\\n",
       "0  112.00      madrugada  Segunda-feira          41555              0   \n",
       "1  112.00      madrugada  Segunda-feira          06669              0   \n",
       "2   18.34      madrugada  Segunda-feira          41187              0   \n",
       "\n",
       "   predicted_CBK_proba  \n",
       "0             0.015386  \n",
       "1             0.001894  \n",
       "2             0.006643  "
      ]
     },
     "execution_count": 9,
     "metadata": {},
     "output_type": "execute_result"
    }
   ],
   "source": [
    "predicted_data = pd.concat([processed_test.drop(columns='CBK'), y_pred, y_pred_proba], axis=1).reset_index(drop=True)\n",
    "predicted_data.head(3)"
   ]
  },
  {
   "cell_type": "code",
   "execution_count": 10,
   "metadata": {},
   "outputs": [
    {
     "data": {
      "text/plain": [
       "(11820, 6)"
      ]
     },
     "execution_count": 10,
     "metadata": {},
     "output_type": "execute_result"
    }
   ],
   "source": [
    "predicted_data.shape"
   ]
  },
  {
   "cell_type": "code",
   "execution_count": 11,
   "metadata": {},
   "outputs": [
    {
     "data": {
      "text/plain": [
       "predicted_CBK\n",
       "0    10046\n",
       "1     1774\n",
       "Name: count, dtype: int64"
      ]
     },
     "execution_count": 11,
     "metadata": {},
     "output_type": "execute_result"
    }
   ],
   "source": [
    "predicted_data.predicted_CBK.value_counts()"
   ]
  },
  {
   "cell_type": "code",
   "execution_count": 12,
   "metadata": {},
   "outputs": [],
   "source": [
    "predicted_data.to_csv('../data/predicted/aba2_predicted.csv', index=False)"
   ]
  },
  {
   "cell_type": "markdown",
   "metadata": {},
   "source": [
    "# 3. Avaliação de negócio"
   ]
  },
  {
   "cell_type": "markdown",
   "metadata": {},
   "source": [
    "## 3.1 Proposta de tratativa"
   ]
  },
  {
   "cell_type": "markdown",
   "metadata": {},
   "source": [
    "Se um modelo classifica e ordena bem as probabilidades, poderiamos criar um score de 'propensão' a chargeback para criar regras de negócio e adições a um sistema de avaliação near real-time que cancele e envie para análise junto com algum outro modelo a transação com alto risco de ser um chargeback fraudulento.\n",
    "\n",
    "É claro, para esse desafio temos poucos dados para realmente afirmar que é um chargeback fraudulento ou se houve erro próprio, então precisaria de mais dados para não haver perdas em compras, como por exemplo, dados cadastrais e dados informados em compra para comparação, validação de cpf, dados de acesso entre outros."
   ]
  },
  {
   "cell_type": "markdown",
   "metadata": {},
   "source": [
    "## 3.2 Análise de valor do modelo"
   ]
  },
  {
   "cell_type": "markdown",
   "metadata": {},
   "source": [
    "Assim, vamos observar o cenário do modelo atual.\n",
    "\n",
    "| classe | precision | recall | f1-score | support\n",
    "|--------|-----------|--------|----------|----------\n",
    "| 0      | 0.99      | 0.86   | 0.92     | 2096\n",
    "| 1      | 0.23      | 0.84   | 0.37     | 105\n",
    "\n",
    "Ou seja:\\\n",
    "% das transações chargeback nesta parcela = 105/(2096+105) = 4,77%\\\n",
    "A acurácia do modelo geral é 86%\n",
    "\n",
    "Nos dados do outro mês temos 11820 casos. De acordo com as probabilidades, temos, em tese:\\\n",
    "~564 casos de chargeback (4,77% de 11820)\\\n",
    "~11256 casos de não chargeback (demais)\n",
    "\n",
    "Dos casos de chargeback, devido a acurácia:\\\n",
    "485 seriam chargeback e o modelo teria dito que é chargeback (certo)\\\n",
    "79 seriam chargeback e o modelo teria dito que não é chargeback (perda)\n",
    "\n",
    "Dos casos que não são chargeback\\\n",
    "9.680 não seriam chargeback e o modelo teria dito que não é chargeback (certo)\\\n",
    "1.576 não seriam chargeback e o modelo teria dito que é chargeback (perda)\n",
    "\n",
    "Então, usando essa estatística para tentar prever economia no dataset de predict:\n"
   ]
  },
  {
   "cell_type": "code",
   "execution_count": 13,
   "metadata": {},
   "outputs": [],
   "source": [
    "# Ordenando pela 'confiança'\n",
    "predicted_data_cbk = predicted_data[predicted_data['predicted_CBK']==1].copy().sort_values(by='predicted_CBK_proba', ascending=False)\n",
    "predicted_data_not_cbk = predicted_data[~(predicted_data['predicted_CBK']==1)].copy().sort_values(by='predicted_CBK_proba', ascending=True)"
   ]
  },
  {
   "cell_type": "code",
   "execution_count": 14,
   "metadata": {},
   "outputs": [
    {
     "name": "stdout",
     "output_type": "stream",
     "text": [
      "CBK data points:1774\n",
      "Não CBK data points:10046\n"
     ]
    }
   ],
   "source": [
    "print(f'CBK data points:{predicted_data_cbk.shape[0]}')\n",
    "print(f'Não CBK data points:{predicted_data_not_cbk.shape[0]}')"
   ]
  },
  {
   "cell_type": "code",
   "execution_count": 15,
   "metadata": {},
   "outputs": [],
   "source": [
    "# Supostamente, dos datapoints cbk ele teria acertado 86% -> 1774 * 0,86 = 1.206\n",
    "cbk_certo = predicted_data_cbk.head(1208) # economia, pegando os valores que o modelo tem mais certeza\n",
    "cbk_errado = predicted_data_cbk.tail(568) # perda"
   ]
  },
  {
   "cell_type": "code",
   "execution_count": 16,
   "metadata": {},
   "outputs": [
    {
     "name": "stdout",
     "output_type": "stream",
     "text": [
      "Economia em classificados como chargeback: 135150\n"
     ]
    }
   ],
   "source": [
    "print(f\"Economia em classificados como chargeback: {round(np.sum(cbk_certo['Valor'])) - round(np.sum(cbk_errado['Valor']))}\")"
   ]
  },
  {
   "cell_type": "markdown",
   "metadata": {},
   "source": [
    "#### 3.2.1 Uma outra visão desta estatística em faixas:"
   ]
  },
  {
   "cell_type": "code",
   "execution_count": 17,
   "metadata": {},
   "outputs": [],
   "source": [
    "predicted_data_score = predicted_data.copy()"
   ]
  },
  {
   "cell_type": "code",
   "execution_count": 18,
   "metadata": {},
   "outputs": [],
   "source": [
    "prob_mean = np.mean(predicted_data_score['predicted_CBK_proba'])\n",
    "prob_std = np.std(predicted_data_score['predicted_CBK_proba'])\n",
    "predicted_data_score['Z_score_lgbm'] = (predicted_data_score['predicted_CBK_proba']-prob_mean)/prob_std\n",
    "predicted_data_score['score_lgbm'] = round(1000*(predicted_data_score['Z_score_lgbm']-min(predicted_data_score['Z_score_lgbm']))/(max(predicted_data_score['Z_score_lgbm'])-min(predicted_data_score['Z_score_lgbm'])),0)\n",
    "\n",
    "predicted_data_score['FAIXAS_CBKSCORE_LGBM'] = pd.qcut(predicted_data_score['score_lgbm'],\n",
    "                                                q=20,duplicates='drop')\n"
   ]
  },
  {
   "cell_type": "code",
   "execution_count": 19,
   "metadata": {},
   "outputs": [
    {
     "name": "stderr",
     "output_type": "stream",
     "text": [
      "C:\\Users\\letic\\AppData\\Local\\Temp\\ipykernel_461564\\3962318178.py:1: FutureWarning: The default value of observed=False is deprecated and will change to observed=True in a future version of pandas. Specify observed=False to silence this warning and retain the current behavior\n",
      "  cbkscore=pd.pivot_table(data=predicted_data_score, index='FAIXAS_CBKSCORE_LGBM',\n",
      "C:\\Users\\letic\\AppData\\Local\\Temp\\ipykernel_461564\\3962318178.py:1: FutureWarning: The provided callable <built-in function sum> is currently using SeriesGroupBy.sum. In a future version of pandas, the provided callable will be used directly. To keep current behavior pass the string \"sum\" instead.\n",
      "  cbkscore=pd.pivot_table(data=predicted_data_score, index='FAIXAS_CBKSCORE_LGBM',\n"
     ]
    },
    {
     "data": {
      "text/html": [
       "<div>\n",
       "<style scoped>\n",
       "    .dataframe tbody tr th:only-of-type {\n",
       "        vertical-align: middle;\n",
       "    }\n",
       "\n",
       "    .dataframe tbody tr th {\n",
       "        vertical-align: top;\n",
       "    }\n",
       "\n",
       "    .dataframe thead th {\n",
       "        text-align: right;\n",
       "    }\n",
       "</style>\n",
       "<table border=\"1\" class=\"dataframe\">\n",
       "  <thead>\n",
       "    <tr style=\"text-align: right;\">\n",
       "      <th></th>\n",
       "      <th>count</th>\n",
       "      <th>sum</th>\n",
       "      <th>cbk_rate</th>\n",
       "      <th>cbk_pct</th>\n",
       "    </tr>\n",
       "    <tr>\n",
       "      <th>FAIXAS_CBKSCORE_LGBM</th>\n",
       "      <th></th>\n",
       "      <th></th>\n",
       "      <th></th>\n",
       "      <th></th>\n",
       "    </tr>\n",
       "  </thead>\n",
       "  <tbody>\n",
       "    <tr>\n",
       "      <th>(-0.001, 1.0]</th>\n",
       "      <td>3317</td>\n",
       "      <td>0</td>\n",
       "      <td>0.00</td>\n",
       "      <td>0.00</td>\n",
       "    </tr>\n",
       "    <tr>\n",
       "      <th>(1.0, 2.0]</th>\n",
       "      <td>1055</td>\n",
       "      <td>0</td>\n",
       "      <td>0.00</td>\n",
       "      <td>0.00</td>\n",
       "    </tr>\n",
       "    <tr>\n",
       "      <th>(2.0, 3.0]</th>\n",
       "      <td>846</td>\n",
       "      <td>0</td>\n",
       "      <td>0.00</td>\n",
       "      <td>0.00</td>\n",
       "    </tr>\n",
       "    <tr>\n",
       "      <th>(3.0, 4.0]</th>\n",
       "      <td>678</td>\n",
       "      <td>0</td>\n",
       "      <td>0.00</td>\n",
       "      <td>0.00</td>\n",
       "    </tr>\n",
       "    <tr>\n",
       "      <th>(4.0, 5.0]</th>\n",
       "      <td>586</td>\n",
       "      <td>0</td>\n",
       "      <td>0.00</td>\n",
       "      <td>0.00</td>\n",
       "    </tr>\n",
       "    <tr>\n",
       "      <th>(5.0, 6.0]</th>\n",
       "      <td>453</td>\n",
       "      <td>0</td>\n",
       "      <td>0.00</td>\n",
       "      <td>0.00</td>\n",
       "    </tr>\n",
       "    <tr>\n",
       "      <th>(6.0, 7.0]</th>\n",
       "      <td>367</td>\n",
       "      <td>0</td>\n",
       "      <td>0.00</td>\n",
       "      <td>0.00</td>\n",
       "    </tr>\n",
       "    <tr>\n",
       "      <th>(7.0, 9.0]</th>\n",
       "      <td>582</td>\n",
       "      <td>0</td>\n",
       "      <td>0.00</td>\n",
       "      <td>0.00</td>\n",
       "    </tr>\n",
       "    <tr>\n",
       "      <th>(9.0, 11.0]</th>\n",
       "      <td>436</td>\n",
       "      <td>0</td>\n",
       "      <td>0.00</td>\n",
       "      <td>0.00</td>\n",
       "    </tr>\n",
       "    <tr>\n",
       "      <th>(11.0, 15.0]</th>\n",
       "      <td>563</td>\n",
       "      <td>0</td>\n",
       "      <td>0.00</td>\n",
       "      <td>0.00</td>\n",
       "    </tr>\n",
       "    <tr>\n",
       "      <th>(15.0, 22.0]</th>\n",
       "      <td>647</td>\n",
       "      <td>0</td>\n",
       "      <td>0.00</td>\n",
       "      <td>0.00</td>\n",
       "    </tr>\n",
       "    <tr>\n",
       "      <th>(22.0, 32.0]</th>\n",
       "      <td>540</td>\n",
       "      <td>24</td>\n",
       "      <td>4.44</td>\n",
       "      <td>1.35</td>\n",
       "    </tr>\n",
       "    <tr>\n",
       "      <th>(32.0, 54.0]</th>\n",
       "      <td>572</td>\n",
       "      <td>572</td>\n",
       "      <td>100.00</td>\n",
       "      <td>33.60</td>\n",
       "    </tr>\n",
       "    <tr>\n",
       "      <th>(54.0, 118.0]</th>\n",
       "      <td>590</td>\n",
       "      <td>590</td>\n",
       "      <td>100.00</td>\n",
       "      <td>66.85</td>\n",
       "    </tr>\n",
       "    <tr>\n",
       "      <th>(118.0, 1000.0]</th>\n",
       "      <td>588</td>\n",
       "      <td>588</td>\n",
       "      <td>100.00</td>\n",
       "      <td>100.00</td>\n",
       "    </tr>\n",
       "  </tbody>\n",
       "</table>\n",
       "</div>"
      ],
      "text/plain": [
       "                      count  sum  cbk_rate  cbk_pct\n",
       "FAIXAS_CBKSCORE_LGBM                               \n",
       "(-0.001, 1.0]          3317    0      0.00     0.00\n",
       "(1.0, 2.0]             1055    0      0.00     0.00\n",
       "(2.0, 3.0]              846    0      0.00     0.00\n",
       "(3.0, 4.0]              678    0      0.00     0.00\n",
       "(4.0, 5.0]              586    0      0.00     0.00\n",
       "(5.0, 6.0]              453    0      0.00     0.00\n",
       "(6.0, 7.0]              367    0      0.00     0.00\n",
       "(7.0, 9.0]              582    0      0.00     0.00\n",
       "(9.0, 11.0]             436    0      0.00     0.00\n",
       "(11.0, 15.0]            563    0      0.00     0.00\n",
       "(15.0, 22.0]            647    0      0.00     0.00\n",
       "(22.0, 32.0]            540   24      4.44     1.35\n",
       "(32.0, 54.0]            572  572    100.00    33.60\n",
       "(54.0, 118.0]           590  590    100.00    66.85\n",
       "(118.0, 1000.0]         588  588    100.00   100.00"
      ]
     },
     "execution_count": 19,
     "metadata": {},
     "output_type": "execute_result"
    }
   ],
   "source": [
    "cbkscore=pd.pivot_table(data=predicted_data_score, index='FAIXAS_CBKSCORE_LGBM',\n",
    "               values='predicted_CBK',\n",
    "               aggfunc={'count',sum},\n",
    "               fill_value=0)\n",
    "cbkscore['cbk_rate'] = round(100*cbkscore['sum']/cbkscore['count'],2)\n",
    "cbkscore['cbk_pct'] = round(100*cbkscore['sum'].cumsum()/np.sum(cbkscore['sum']),2)\n",
    "\n",
    "cbkscore = cbkscore.sort_values(by='cbk_rate')\n",
    "\n",
    "cbkscore['cbk_rate'] = round(100*cbkscore['sum']/cbkscore['count'],2)\n",
    "cbkscore['cbk_pct'] = round(100*cbkscore['sum'].cumsum()/np.sum(cbkscore['sum']),2)\n",
    "\n",
    "cbkscore"
   ]
  }
 ],
 "metadata": {
  "kernelspec": {
   "display_name": ".venv",
   "language": "python",
   "name": "python3"
  },
  "language_info": {
   "codemirror_mode": {
    "name": "ipython",
    "version": 3
   },
   "file_extension": ".py",
   "mimetype": "text/x-python",
   "name": "python",
   "nbconvert_exporter": "python",
   "pygments_lexer": "ipython3",
   "version": "3.9.2"
  }
 },
 "nbformat": 4,
 "nbformat_minor": 2
}
