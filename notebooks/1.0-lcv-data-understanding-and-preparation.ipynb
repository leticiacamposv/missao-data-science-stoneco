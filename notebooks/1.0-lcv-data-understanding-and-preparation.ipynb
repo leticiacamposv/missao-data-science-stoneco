{
 "cells": [
  {
   "cell_type": "markdown",
   "metadata": {},
   "source": [
    "# Data understanding e data preparation"
   ]
  },
  {
   "cell_type": "markdown",
   "metadata": {},
   "source": [
    "# 1. Objetivo do notebook:"
   ]
  },
  {
   "cell_type": "markdown",
   "metadata": {},
   "source": [
    "O objetivo desde notebook é fornecer informações primárias sobre o conjunto de dados 'cru' e realizar pré-processamentos para etapas de análise exploratória e modelagem\n",
    "\n",
    "<u>Output</u>: Dados pré-processados (**'../data/processed/card_transactions_cbk_prepared.csv'**)"
   ]
  },
  {
   "cell_type": "markdown",
   "metadata": {},
   "source": [
    "# 2. Inspeção dos dados"
   ]
  },
  {
   "cell_type": "code",
   "execution_count": 1,
   "metadata": {},
   "outputs": [],
   "source": [
    "import pandas as pd\n",
    "import numpy as np\n",
    "import datetime\n",
    "import holidays"
   ]
  },
  {
   "cell_type": "code",
   "execution_count": 2,
   "metadata": {},
   "outputs": [],
   "source": [
    "df_aba1 = pd.read_excel('../data/raw/Missão_Stone_-_Dados_de_trx_(3).xlsx', engine='openpyxl', sheet_name='Aba 1')"
   ]
  },
  {
   "cell_type": "markdown",
   "metadata": {},
   "source": [
    "## 2.1 Descrições"
   ]
  },
  {
   "cell_type": "code",
   "execution_count": 3,
   "metadata": {},
   "outputs": [
    {
     "name": "stdout",
     "output_type": "stream",
     "text": [
      "Aba 1\n",
      "------------------------------------------\n",
      "Linhas     :  11128\n",
      "Colunas    :  5\n",
      "\n",
      "Features : \n",
      " ['Dia', 'Hora', 'Valor', 'Cartão', 'CBK']\n",
      "\n",
      "Valores nulos :   124\n",
      "\n",
      "Valores únicos :  \n",
      " Dia         154\n",
      "Hora      10100\n",
      "Valor       629\n",
      "Cartão     9261\n",
      "CBK           2\n",
      "dtype: int64\n"
     ]
    }
   ],
   "source": [
    "print ('Aba 1')\n",
    "print ('------------------------------------------')\n",
    "print (\"Linhas     : \" ,df_aba1.shape[0])\n",
    "print (\"Colunas    : \" ,df_aba1.shape[1])\n",
    "print (\"\\nFeatures : \\n\" ,df_aba1.columns.tolist())\n",
    "print (\"\\nValores nulos :  \", df_aba1.isnull().sum().values.sum())\n",
    "print (\"\\nValores únicos :  \\n\",df_aba1.nunique())"
   ]
  },
  {
   "cell_type": "code",
   "execution_count": 4,
   "metadata": {},
   "outputs": [
    {
     "name": "stdout",
     "output_type": "stream",
     "text": [
      "Dia\n",
      "2015-05-11 00:00:00        841\n",
      "2015-05-29 00:00:00        732\n",
      "2015-05-15 00:00:00        659\n",
      "2015-05-28 00:00:00        611\n",
      "2015-05-12 00:00:00        581\n",
      "                          ... \n",
      "2015-05-30 16:34:22.000      1\n",
      "2015-05-30 16:25:48.000      1\n",
      "2015-05-30 16:24:46.000      1\n",
      "2015-05-30 16:21:38.000      1\n",
      "2015-05-30 23:51:31.000      1\n",
      "Name: count, Length: 154, dtype: int64\n",
      "--------------------------------\n",
      "Hora\n",
      "15          11\n",
      "20          10\n",
      "99          10\n",
      "10           7\n",
      "70           7\n",
      "            ..\n",
      "22:12:10     1\n",
      "22:12:25     1\n",
      "22:13:06     1\n",
      "22:13:21     1\n",
      "33           1\n",
      "Name: count, Length: 10100, dtype: int64\n",
      "--------------------------------\n",
      "Valor\n",
      "154                 561\n",
      "46                  372\n",
      "99                  328\n",
      "34.5                290\n",
      "78.4                287\n",
      "                   ... \n",
      "172                   1\n",
      "129.6                 1\n",
      "465                   1\n",
      "58.78                 1\n",
      "518759******0329      1\n",
      "Name: count, Length: 629, dtype: int64\n",
      "--------------------------------\n",
      "Cartão\n",
      "Não                 120\n",
      "521397******2711     20\n",
      "552289******7788     20\n",
      "544828******8377     15\n",
      "498407******2077     12\n",
      "                   ... \n",
      "544315******2826      1\n",
      "527496******5421      1\n",
      "441524******4072      1\n",
      "498423******7727      1\n",
      "529323******2139      1\n",
      "Name: count, Length: 9261, dtype: int64\n",
      "--------------------------------\n",
      "CBK\n",
      "Não    10436\n",
      "Sim      568\n",
      "Name: count, dtype: int64\n",
      "--------------------------------\n"
     ]
    }
   ],
   "source": [
    "for column in df_aba1.columns.tolist():\n",
    "    print(df_aba1[column].value_counts())\n",
    "    print('--------------------------------')"
   ]
  },
  {
   "cell_type": "code",
   "execution_count": 5,
   "metadata": {},
   "outputs": [
    {
     "name": "stdout",
     "output_type": "stream",
     "text": [
      "<class 'pandas.core.frame.DataFrame'>\n",
      "RangeIndex: 11128 entries, 0 to 11127\n",
      "Data columns (total 5 columns):\n",
      " #   Column  Non-Null Count  Dtype \n",
      "---  ------  --------------  ----- \n",
      " 0   Dia     11128 non-null  object\n",
      " 1   Hora    11128 non-null  object\n",
      " 2   Valor   11128 non-null  object\n",
      " 3   Cartão  11128 non-null  object\n",
      " 4   CBK     11004 non-null  object\n",
      "dtypes: object(5)\n",
      "memory usage: 434.8+ KB\n"
     ]
    }
   ],
   "source": [
    "df_aba1.info()"
   ]
  },
  {
   "cell_type": "code",
   "execution_count": 6,
   "metadata": {},
   "outputs": [
    {
     "data": {
      "text/html": [
       "<div>\n",
       "<style scoped>\n",
       "    .dataframe tbody tr th:only-of-type {\n",
       "        vertical-align: middle;\n",
       "    }\n",
       "\n",
       "    .dataframe tbody tr th {\n",
       "        vertical-align: top;\n",
       "    }\n",
       "\n",
       "    .dataframe thead th {\n",
       "        text-align: right;\n",
       "    }\n",
       "</style>\n",
       "<table border=\"1\" class=\"dataframe\">\n",
       "  <thead>\n",
       "    <tr style=\"text-align: right;\">\n",
       "      <th></th>\n",
       "      <th>Dia</th>\n",
       "      <th>Hora</th>\n",
       "      <th>Valor</th>\n",
       "      <th>Cartão</th>\n",
       "      <th>CBK</th>\n",
       "    </tr>\n",
       "  </thead>\n",
       "  <tbody>\n",
       "    <tr>\n",
       "      <th>0</th>\n",
       "      <td>2015-05-01 00:00:00</td>\n",
       "      <td>00:01:54</td>\n",
       "      <td>36.54</td>\n",
       "      <td>536518******2108</td>\n",
       "      <td>Não</td>\n",
       "    </tr>\n",
       "    <tr>\n",
       "      <th>1</th>\n",
       "      <td>2015-05-01 00:00:00</td>\n",
       "      <td>00:03:46</td>\n",
       "      <td>36.54</td>\n",
       "      <td>536518******2108</td>\n",
       "      <td>Não</td>\n",
       "    </tr>\n",
       "    <tr>\n",
       "      <th>2</th>\n",
       "      <td>2015-05-01 00:00:00</td>\n",
       "      <td>00:08:50</td>\n",
       "      <td>69</td>\n",
       "      <td>453211******1239</td>\n",
       "      <td>Não</td>\n",
       "    </tr>\n",
       "    <tr>\n",
       "      <th>3</th>\n",
       "      <td>2015-05-01 00:00:00</td>\n",
       "      <td>00:27:00</td>\n",
       "      <td>193.43</td>\n",
       "      <td>548827******1705</td>\n",
       "      <td>Não</td>\n",
       "    </tr>\n",
       "    <tr>\n",
       "      <th>4</th>\n",
       "      <td>2015-05-01 00:00:00</td>\n",
       "      <td>01:32:46</td>\n",
       "      <td>132</td>\n",
       "      <td>531681******9778</td>\n",
       "      <td>Não</td>\n",
       "    </tr>\n",
       "  </tbody>\n",
       "</table>\n",
       "</div>"
      ],
      "text/plain": [
       "                   Dia      Hora   Valor            Cartão  CBK\n",
       "0  2015-05-01 00:00:00  00:01:54   36.54  536518******2108  Não\n",
       "1  2015-05-01 00:00:00  00:03:46   36.54  536518******2108  Não\n",
       "2  2015-05-01 00:00:00  00:08:50      69  453211******1239  Não\n",
       "3  2015-05-01 00:00:00  00:27:00  193.43  548827******1705  Não\n",
       "4  2015-05-01 00:00:00  01:32:46     132  531681******9778  Não"
      ]
     },
     "execution_count": 6,
     "metadata": {},
     "output_type": "execute_result"
    }
   ],
   "source": [
    "df_aba1.head()"
   ]
  },
  {
   "cell_type": "code",
   "execution_count": 7,
   "metadata": {},
   "outputs": [
    {
     "data": {
      "text/html": [
       "<div>\n",
       "<style scoped>\n",
       "    .dataframe tbody tr th:only-of-type {\n",
       "        vertical-align: middle;\n",
       "    }\n",
       "\n",
       "    .dataframe tbody tr th {\n",
       "        vertical-align: top;\n",
       "    }\n",
       "\n",
       "    .dataframe thead th {\n",
       "        text-align: right;\n",
       "    }\n",
       "</style>\n",
       "<table border=\"1\" class=\"dataframe\">\n",
       "  <thead>\n",
       "    <tr style=\"text-align: right;\">\n",
       "      <th></th>\n",
       "      <th>Dia</th>\n",
       "      <th>Hora</th>\n",
       "      <th>Valor</th>\n",
       "      <th>Cartão</th>\n",
       "      <th>CBK</th>\n",
       "    </tr>\n",
       "  </thead>\n",
       "  <tbody>\n",
       "    <tr>\n",
       "      <th>11123</th>\n",
       "      <td>2015-05-30 23:07:01.000</td>\n",
       "      <td>53</td>\n",
       "      <td>514868******7409</td>\n",
       "      <td>Não</td>\n",
       "      <td>NaN</td>\n",
       "    </tr>\n",
       "    <tr>\n",
       "      <th>11124</th>\n",
       "      <td>2015-05-30 23:08:47.000</td>\n",
       "      <td>15</td>\n",
       "      <td>439354******5281</td>\n",
       "      <td>Não</td>\n",
       "      <td>NaN</td>\n",
       "    </tr>\n",
       "    <tr>\n",
       "      <th>11125</th>\n",
       "      <td>2015-05-30 23:15:24.000</td>\n",
       "      <td>20</td>\n",
       "      <td>549167******1648</td>\n",
       "      <td>Não</td>\n",
       "      <td>NaN</td>\n",
       "    </tr>\n",
       "    <tr>\n",
       "      <th>11126</th>\n",
       "      <td>2015-05-30 23:17:41.000</td>\n",
       "      <td>70</td>\n",
       "      <td>518759******8384</td>\n",
       "      <td>Não</td>\n",
       "      <td>NaN</td>\n",
       "    </tr>\n",
       "    <tr>\n",
       "      <th>11127</th>\n",
       "      <td>2015-05-30 23:51:31.000</td>\n",
       "      <td>20</td>\n",
       "      <td>518759******0329</td>\n",
       "      <td>Não</td>\n",
       "      <td>NaN</td>\n",
       "    </tr>\n",
       "  </tbody>\n",
       "</table>\n",
       "</div>"
      ],
      "text/plain": [
       "                           Dia Hora             Valor Cartão  CBK\n",
       "11123  2015-05-30 23:07:01.000   53  514868******7409    Não  NaN\n",
       "11124  2015-05-30 23:08:47.000   15  439354******5281    Não  NaN\n",
       "11125  2015-05-30 23:15:24.000   20  549167******1648    Não  NaN\n",
       "11126  2015-05-30 23:17:41.000   70  518759******8384    Não  NaN\n",
       "11127  2015-05-30 23:51:31.000   20  518759******0329    Não  NaN"
      ]
     },
     "execution_count": 7,
     "metadata": {},
     "output_type": "execute_result"
    }
   ],
   "source": [
    "df_aba1.tail()"
   ]
  },
  {
   "cell_type": "code",
   "execution_count": 8,
   "metadata": {},
   "outputs": [
    {
     "data": {
      "text/html": [
       "<div>\n",
       "<style scoped>\n",
       "    .dataframe tbody tr th:only-of-type {\n",
       "        vertical-align: middle;\n",
       "    }\n",
       "\n",
       "    .dataframe tbody tr th {\n",
       "        vertical-align: top;\n",
       "    }\n",
       "\n",
       "    .dataframe thead th {\n",
       "        text-align: right;\n",
       "    }\n",
       "</style>\n",
       "<table border=\"1\" class=\"dataframe\">\n",
       "  <thead>\n",
       "    <tr style=\"text-align: right;\">\n",
       "      <th></th>\n",
       "      <th>0</th>\n",
       "    </tr>\n",
       "  </thead>\n",
       "  <tbody>\n",
       "    <tr>\n",
       "      <th>CBK</th>\n",
       "      <td>1.114306</td>\n",
       "    </tr>\n",
       "    <tr>\n",
       "      <th>Dia</th>\n",
       "      <td>0.000000</td>\n",
       "    </tr>\n",
       "    <tr>\n",
       "      <th>Hora</th>\n",
       "      <td>0.000000</td>\n",
       "    </tr>\n",
       "    <tr>\n",
       "      <th>Valor</th>\n",
       "      <td>0.000000</td>\n",
       "    </tr>\n",
       "    <tr>\n",
       "      <th>Cartão</th>\n",
       "      <td>0.000000</td>\n",
       "    </tr>\n",
       "  </tbody>\n",
       "</table>\n",
       "</div>"
      ],
      "text/plain": [
       "               0\n",
       "CBK     1.114306\n",
       "Dia     0.000000\n",
       "Hora    0.000000\n",
       "Valor   0.000000\n",
       "Cartão  0.000000"
      ]
     },
     "execution_count": 8,
     "metadata": {},
     "output_type": "execute_result"
    }
   ],
   "source": [
    "pd.DataFrame(100*df_aba1.isnull().sum(axis=0)).sort_values(by=0, ascending=False)/df_aba1.shape[0]"
   ]
  },
  {
   "cell_type": "markdown",
   "metadata": {},
   "source": [
    "### 2.1 Adequação dos dados e data cleaning"
   ]
  },
  {
   "cell_type": "markdown",
   "metadata": {},
   "source": [
    "#### 2.1.1 Valores temporais"
   ]
  },
  {
   "cell_type": "markdown",
   "metadata": {},
   "source": [
    "Percebe-se no value_counts que a coluna 'Hora' tem formatos diferentes e números incoerentes (como 33). Além disso, percebe-se uma melhoria unindo os dois em um único timestamp, assim:"
   ]
  },
  {
   "cell_type": "code",
   "execution_count": 9,
   "metadata": {},
   "outputs": [],
   "source": [
    "def correct_hour_format(x):\n",
    "    \"\"\"\n",
    "    Esta função tenta converter o valor de entrada `x` para um objeto `timedelta` do pandas. \n",
    "    Se a conversão falhar, a função assume que a entrada é uma hora inteira (0-23) e formata essa hora como 'HH:00:00'.\n",
    "\n",
    "    Parâmetros:\n",
    "    x(str ou int)->int: O valor de entrada representando a hora.\n",
    "\n",
    "    Retorno:\n",
    "    pandas.Timedelta -> Valor da hora convertido em um objeto `timedelta` do pandas.\n",
    "    \"\"\"\n",
    "    try:\n",
    "        hour = pd.to_timedelta(str(x))\n",
    "    except: \n",
    "        hour = pd.to_timedelta(f'{int(x):02d}:00:00')\n",
    "    return hour"
   ]
  },
  {
   "cell_type": "code",
   "execution_count": 10,
   "metadata": {},
   "outputs": [],
   "source": [
    "# Correção dos dtypes\n",
    "df_aba1['Hora'] = df_aba1['Hora'].apply(correct_hour_format)\n",
    "df_aba1['Dia'] = pd.to_datetime(df_aba1['Dia'], errors='coerce', format='%Y-%m-%d %H:%M:%S')\n",
    "\n",
    "# Limpeza de anos 'absurdos' (muito no passado ou futuro)\n",
    "current_year = datetime.datetime.now().year\n",
    "df_aba1 = df_aba1[(df_aba1['Dia'].dt.year >= 1900) & (df_aba1['Dia'].dt.year <= current_year)]\n",
    "\n",
    "df_aba1['transaction_timestamp'] = df_aba1['Dia'] + df_aba1['Hora']\n",
    "\n",
    "#Limpeza de transaction_timestamps com horas fora do range aceitável (dentro das 24 horas)\n",
    "df_aba1 = df_aba1[(df_aba1['transaction_timestamp'].dt.hour >= 0) & (df_aba1['transaction_timestamp'].dt.hour < 24)]"
   ]
  },
  {
   "cell_type": "markdown",
   "metadata": {},
   "source": [
    "#### 2.1.2 Valores numéricos"
   ]
  },
  {
   "cell_type": "markdown",
   "metadata": {},
   "source": [
    "Repara-se também pelo value_counts um código de cartão na coluna valor, então:"
   ]
  },
  {
   "cell_type": "code",
   "execution_count": 11,
   "metadata": {},
   "outputs": [],
   "source": [
    "df_aba1 = df_aba1[pd.to_numeric(df_aba1['Valor'], errors='coerce').notnull()]\n",
    "\n",
    "df_aba1['Valor'] = df_aba1['Valor'].astype('float')"
   ]
  },
  {
   "cell_type": "markdown",
   "metadata": {},
   "source": [
    "#### 2.1.3 Target"
   ]
  },
  {
   "cell_type": "markdown",
   "metadata": {},
   "source": [
    "Nulos em uma abordagem de crédito/fraude é uma zona cinzenta. Como visto acima, não haverá muita perda de dados com o drop (~1%), então opta-se por isso"
   ]
  },
  {
   "cell_type": "code",
   "execution_count": 12,
   "metadata": {},
   "outputs": [],
   "source": [
    "df_aba1 = df_aba1.dropna(subset=['CBK'])\n",
    "df_aba1['CBK'] = df_aba1['CBK'].map({'Não': 0, 'Sim': 1}).fillna(df_aba1['CBK'])"
   ]
  },
  {
   "cell_type": "markdown",
   "metadata": {},
   "source": [
    "Agora, verificando tudo:"
   ]
  },
  {
   "cell_type": "code",
   "execution_count": 13,
   "metadata": {},
   "outputs": [
    {
     "name": "stdout",
     "output_type": "stream",
     "text": [
      "Range de datas: 2015-05-01 - 2015-05-30\n",
      "Range de horas:  00:00:00 -  23:59:44\n"
     ]
    },
    {
     "data": {
      "text/html": [
       "<div>\n",
       "<style scoped>\n",
       "    .dataframe tbody tr th:only-of-type {\n",
       "        vertical-align: middle;\n",
       "    }\n",
       "\n",
       "    .dataframe tbody tr th {\n",
       "        vertical-align: top;\n",
       "    }\n",
       "\n",
       "    .dataframe thead th {\n",
       "        text-align: right;\n",
       "    }\n",
       "</style>\n",
       "<table border=\"1\" class=\"dataframe\">\n",
       "  <thead>\n",
       "    <tr style=\"text-align: right;\">\n",
       "      <th></th>\n",
       "      <th>count</th>\n",
       "      <th>mean</th>\n",
       "      <th>std</th>\n",
       "      <th>min</th>\n",
       "      <th>1%</th>\n",
       "      <th>10%</th>\n",
       "      <th>25%</th>\n",
       "      <th>50%</th>\n",
       "      <th>75%</th>\n",
       "      <th>90%</th>\n",
       "      <th>99%</th>\n",
       "      <th>max</th>\n",
       "    </tr>\n",
       "  </thead>\n",
       "  <tbody>\n",
       "    <tr>\n",
       "      <th>Valor</th>\n",
       "      <td>11004.0</td>\n",
       "      <td>130.023628</td>\n",
       "      <td>141.855348</td>\n",
       "      <td>1.0</td>\n",
       "      <td>10.0</td>\n",
       "      <td>27.0</td>\n",
       "      <td>55.0</td>\n",
       "      <td>99.0</td>\n",
       "      <td>154.0</td>\n",
       "      <td>250.0</td>\n",
       "      <td>660.0</td>\n",
       "      <td>2920.0</td>\n",
       "    </tr>\n",
       "    <tr>\n",
       "      <th>CBK</th>\n",
       "      <td>11004.0</td>\n",
       "      <td>0.051618</td>\n",
       "      <td>0.221264</td>\n",
       "      <td>0.0</td>\n",
       "      <td>0.0</td>\n",
       "      <td>0.0</td>\n",
       "      <td>0.0</td>\n",
       "      <td>0.0</td>\n",
       "      <td>0.0</td>\n",
       "      <td>0.0</td>\n",
       "      <td>1.0</td>\n",
       "      <td>1.0</td>\n",
       "    </tr>\n",
       "  </tbody>\n",
       "</table>\n",
       "</div>"
      ],
      "text/plain": [
       "         count        mean         std  min    1%   10%   25%   50%    75%  \\\n",
       "Valor  11004.0  130.023628  141.855348  1.0  10.0  27.0  55.0  99.0  154.0   \n",
       "CBK    11004.0    0.051618    0.221264  0.0   0.0   0.0   0.0   0.0    0.0   \n",
       "\n",
       "         90%    99%     max  \n",
       "Valor  250.0  660.0  2920.0  \n",
       "CBK      0.0    1.0     1.0  "
      ]
     },
     "execution_count": 13,
     "metadata": {},
     "output_type": "execute_result"
    }
   ],
   "source": [
    "print(f'Range de datas: {df_aba1.Dia.min().date()} - {df_aba1.Dia.max().date()}')\n",
    "print(f'Range de horas: {str(df_aba1.Hora.min()).replace(\"0 days\", \"\")} - {str(df_aba1.Hora.max()).replace(\"0 days\", \"\")}')\n",
    "\n",
    "\n",
    "df_aba1[['Valor', 'CBK']].describe(percentiles = [0.01, 0.1, 0.25, 0.5, 0.75, 0.9, 0.99]).T"
   ]
  },
  {
   "cell_type": "code",
   "execution_count": 14,
   "metadata": {},
   "outputs": [
    {
     "data": {
      "text/html": [
       "<div>\n",
       "<style scoped>\n",
       "    .dataframe tbody tr th:only-of-type {\n",
       "        vertical-align: middle;\n",
       "    }\n",
       "\n",
       "    .dataframe tbody tr th {\n",
       "        vertical-align: top;\n",
       "    }\n",
       "\n",
       "    .dataframe thead th {\n",
       "        text-align: right;\n",
       "    }\n",
       "</style>\n",
       "<table border=\"1\" class=\"dataframe\">\n",
       "  <thead>\n",
       "    <tr style=\"text-align: right;\">\n",
       "      <th></th>\n",
       "      <th>Dia</th>\n",
       "      <th>Hora</th>\n",
       "      <th>Valor</th>\n",
       "      <th>Cartão</th>\n",
       "      <th>CBK</th>\n",
       "      <th>transaction_timestamp</th>\n",
       "    </tr>\n",
       "  </thead>\n",
       "  <tbody>\n",
       "    <tr>\n",
       "      <th>0</th>\n",
       "      <td>2015-05-01</td>\n",
       "      <td>0 days 00:01:54</td>\n",
       "      <td>36.54</td>\n",
       "      <td>536518******2108</td>\n",
       "      <td>0</td>\n",
       "      <td>2015-05-01 00:01:54</td>\n",
       "    </tr>\n",
       "    <tr>\n",
       "      <th>1</th>\n",
       "      <td>2015-05-01</td>\n",
       "      <td>0 days 00:03:46</td>\n",
       "      <td>36.54</td>\n",
       "      <td>536518******2108</td>\n",
       "      <td>0</td>\n",
       "      <td>2015-05-01 00:03:46</td>\n",
       "    </tr>\n",
       "    <tr>\n",
       "      <th>2</th>\n",
       "      <td>2015-05-01</td>\n",
       "      <td>0 days 00:08:50</td>\n",
       "      <td>69.00</td>\n",
       "      <td>453211******1239</td>\n",
       "      <td>0</td>\n",
       "      <td>2015-05-01 00:08:50</td>\n",
       "    </tr>\n",
       "  </tbody>\n",
       "</table>\n",
       "</div>"
      ],
      "text/plain": [
       "         Dia            Hora  Valor            Cartão  CBK  \\\n",
       "0 2015-05-01 0 days 00:01:54  36.54  536518******2108    0   \n",
       "1 2015-05-01 0 days 00:03:46  36.54  536518******2108    0   \n",
       "2 2015-05-01 0 days 00:08:50  69.00  453211******1239    0   \n",
       "\n",
       "  transaction_timestamp  \n",
       "0   2015-05-01 00:01:54  \n",
       "1   2015-05-01 00:03:46  \n",
       "2   2015-05-01 00:08:50  "
      ]
     },
     "execution_count": 14,
     "metadata": {},
     "output_type": "execute_result"
    }
   ],
   "source": [
    "df_aba1.head(3)"
   ]
  },
  {
   "cell_type": "code",
   "execution_count": 15,
   "metadata": {},
   "outputs": [
    {
     "data": {
      "text/html": [
       "<div>\n",
       "<style scoped>\n",
       "    .dataframe tbody tr th:only-of-type {\n",
       "        vertical-align: middle;\n",
       "    }\n",
       "\n",
       "    .dataframe tbody tr th {\n",
       "        vertical-align: top;\n",
       "    }\n",
       "\n",
       "    .dataframe thead th {\n",
       "        text-align: right;\n",
       "    }\n",
       "</style>\n",
       "<table border=\"1\" class=\"dataframe\">\n",
       "  <thead>\n",
       "    <tr style=\"text-align: right;\">\n",
       "      <th></th>\n",
       "      <th>Dia</th>\n",
       "      <th>Hora</th>\n",
       "      <th>Valor</th>\n",
       "      <th>Cartão</th>\n",
       "      <th>CBK</th>\n",
       "      <th>transaction_timestamp</th>\n",
       "    </tr>\n",
       "  </thead>\n",
       "  <tbody>\n",
       "    <tr>\n",
       "      <th>11001</th>\n",
       "      <td>2015-05-30</td>\n",
       "      <td>0 days 23:15:24</td>\n",
       "      <td>20.0</td>\n",
       "      <td>549167******1648</td>\n",
       "      <td>0</td>\n",
       "      <td>2015-05-30 23:15:24</td>\n",
       "    </tr>\n",
       "    <tr>\n",
       "      <th>11002</th>\n",
       "      <td>2015-05-30</td>\n",
       "      <td>0 days 23:17:41</td>\n",
       "      <td>70.0</td>\n",
       "      <td>518759******8384</td>\n",
       "      <td>0</td>\n",
       "      <td>2015-05-30 23:17:41</td>\n",
       "    </tr>\n",
       "    <tr>\n",
       "      <th>11003</th>\n",
       "      <td>2015-05-30</td>\n",
       "      <td>0 days 23:51:31</td>\n",
       "      <td>20.0</td>\n",
       "      <td>518759******0329</td>\n",
       "      <td>0</td>\n",
       "      <td>2015-05-30 23:51:31</td>\n",
       "    </tr>\n",
       "  </tbody>\n",
       "</table>\n",
       "</div>"
      ],
      "text/plain": [
       "             Dia            Hora  Valor            Cartão  CBK  \\\n",
       "11001 2015-05-30 0 days 23:15:24   20.0  549167******1648    0   \n",
       "11002 2015-05-30 0 days 23:17:41   70.0  518759******8384    0   \n",
       "11003 2015-05-30 0 days 23:51:31   20.0  518759******0329    0   \n",
       "\n",
       "      transaction_timestamp  \n",
       "11001   2015-05-30 23:15:24  \n",
       "11002   2015-05-30 23:17:41  \n",
       "11003   2015-05-30 23:51:31  "
      ]
     },
     "execution_count": 15,
     "metadata": {},
     "output_type": "execute_result"
    }
   ],
   "source": [
    "df_aba1.tail(3)"
   ]
  },
  {
   "cell_type": "markdown",
   "metadata": {},
   "source": [
    "### 2.2 Feature Engineering"
   ]
  },
  {
   "cell_type": "markdown",
   "metadata": {},
   "source": [
    "#### 2.2.1 Valores temporais"
   ]
  },
  {
   "cell_type": "markdown",
   "metadata": {},
   "source": [
    "- Extração de day of the week, flag de feriado, hora do dia dos dados temporais, trimestre do ano"
   ]
  },
  {
   "cell_type": "code",
   "execution_count": 16,
   "metadata": {},
   "outputs": [],
   "source": [
    "def periodo_do_dia(timestamp):\n",
    "    \"\"\"\n",
    "    Avalia a hora do timestamp fornecido e classifica o período do dia em uma das seguintes categorias: \n",
    "    - 'madrugada' (entre 00:00:01 e 05:29:59)\n",
    "    - 'dia' (entre 05:30:00 e 11:59:59)\n",
    "    - 'tarde' (entre 12:00:00 e 17:59:59)\n",
    "    - 'noite' (entre 18:00:00 e 00:00:00)\n",
    "\n",
    "    Parâmetros:\n",
    "    timestamp -> (datetime.datetime)\n",
    "\n",
    "    Retorno:\n",
    "    str\n",
    "    \"\"\"\n",
    "    hora = timestamp.time()\n",
    "    madrugada_inicio = datetime.time(0, 0, 1)\n",
    "    manha_inicio = datetime.time(5, 30, 0)\n",
    "    tarde_inicio = datetime.time(12, 0, 0)\n",
    "    noite_inicio = datetime.time(18, 0, 0)\n",
    "    if madrugada_inicio <= hora < manha_inicio:\n",
    "        return 'madrugada'\n",
    "    elif manha_inicio <= hora < tarde_inicio:\n",
    "        return 'dia'\n",
    "    elif tarde_inicio <= hora < noite_inicio:\n",
    "        return 'tarde'\n",
    "    else:\n",
    "        return 'noite'"
   ]
  },
  {
   "cell_type": "code",
   "execution_count": 17,
   "metadata": {},
   "outputs": [],
   "source": [
    "df_aba1['periodo_do_dia'] = df_aba1['transaction_timestamp'].apply(periodo_do_dia)\n",
    "\n",
    "df_aba1['dia_da_semana'] = pd.to_datetime(df_aba1['transaction_timestamp']).dt.day_name(locale='pt_BR')\n",
    "\n",
    "df_aba1['flag_feriado'] = df_aba1['transaction_timestamp'].dt.date.apply(lambda x: 1 if x in holidays.Brazil() else 0)\n",
    "\n",
    "# df_aba1['trimestre'] = df_aba1['transaction_timestamp'].dt.quarter -> No caso, só há um trimestre pois só há dados de maio"
   ]
  },
  {
   "cell_type": "markdown",
   "metadata": {},
   "source": [
    "#### 2.2.2 Valor da transação"
   ]
  },
  {
   "cell_type": "markdown",
   "metadata": {},
   "source": [
    "Opta-se por não alterar pois, caso o algoritmo escolhido seja uma árvore de decisão, ele é capaz de fazer os próprios cortes em valores numéricos."
   ]
  },
  {
   "cell_type": "markdown",
   "metadata": {},
   "source": [
    "#### 2.2.3 Cartão"
   ]
  },
  {
   "cell_type": "markdown",
   "metadata": {},
   "source": [
    "Após uma pesquisa, descobre-se que o primeiro digito de um cartão corresponde à bandeira e os 5 próximos dígitos, a instituição bancária. Assim:"
   ]
  },
  {
   "cell_type": "code",
   "execution_count": 18,
   "metadata": {},
   "outputs": [],
   "source": [
    "df_aba1['bandeira_cartao'] = df_aba1['Cartão'].str[:1]\n",
    "df_aba1['emissor_cartao'] = df_aba1['Cartão'].str[1:6]"
   ]
  },
  {
   "cell_type": "markdown",
   "metadata": {},
   "source": [
    "### 2.3 Filtro"
   ]
  },
  {
   "cell_type": "markdown",
   "metadata": {},
   "source": [
    "Como as colunas de Hora e timestamp não são mais necessárias dada a redundância:"
   ]
  },
  {
   "cell_type": "code",
   "execution_count": 19,
   "metadata": {},
   "outputs": [],
   "source": [
    "df_aba1.drop(columns=['Hora', 'transaction_timestamp'], inplace=True)"
   ]
  },
  {
   "cell_type": "markdown",
   "metadata": {},
   "source": [
    "# 3. Resultados e exportação"
   ]
  },
  {
   "cell_type": "code",
   "execution_count": 20,
   "metadata": {},
   "outputs": [
    {
     "data": {
      "text/html": [
       "<div>\n",
       "<style scoped>\n",
       "    .dataframe tbody tr th:only-of-type {\n",
       "        vertical-align: middle;\n",
       "    }\n",
       "\n",
       "    .dataframe tbody tr th {\n",
       "        vertical-align: top;\n",
       "    }\n",
       "\n",
       "    .dataframe thead th {\n",
       "        text-align: right;\n",
       "    }\n",
       "</style>\n",
       "<table border=\"1\" class=\"dataframe\">\n",
       "  <thead>\n",
       "    <tr style=\"text-align: right;\">\n",
       "      <th></th>\n",
       "      <th>Dia</th>\n",
       "      <th>Valor</th>\n",
       "      <th>Cartão</th>\n",
       "      <th>CBK</th>\n",
       "      <th>periodo_do_dia</th>\n",
       "      <th>dia_da_semana</th>\n",
       "      <th>flag_feriado</th>\n",
       "      <th>bandeira_cartao</th>\n",
       "      <th>emissor_cartao</th>\n",
       "    </tr>\n",
       "  </thead>\n",
       "  <tbody>\n",
       "    <tr>\n",
       "      <th>0</th>\n",
       "      <td>2015-05-01</td>\n",
       "      <td>36.54</td>\n",
       "      <td>536518******2108</td>\n",
       "      <td>0</td>\n",
       "      <td>madrugada</td>\n",
       "      <td>Sexta-feira</td>\n",
       "      <td>1</td>\n",
       "      <td>5</td>\n",
       "      <td>36518</td>\n",
       "    </tr>\n",
       "    <tr>\n",
       "      <th>1</th>\n",
       "      <td>2015-05-01</td>\n",
       "      <td>36.54</td>\n",
       "      <td>536518******2108</td>\n",
       "      <td>0</td>\n",
       "      <td>madrugada</td>\n",
       "      <td>Sexta-feira</td>\n",
       "      <td>1</td>\n",
       "      <td>5</td>\n",
       "      <td>36518</td>\n",
       "    </tr>\n",
       "    <tr>\n",
       "      <th>2</th>\n",
       "      <td>2015-05-01</td>\n",
       "      <td>69.00</td>\n",
       "      <td>453211******1239</td>\n",
       "      <td>0</td>\n",
       "      <td>madrugada</td>\n",
       "      <td>Sexta-feira</td>\n",
       "      <td>1</td>\n",
       "      <td>4</td>\n",
       "      <td>53211</td>\n",
       "    </tr>\n",
       "    <tr>\n",
       "      <th>3</th>\n",
       "      <td>2015-05-01</td>\n",
       "      <td>193.43</td>\n",
       "      <td>548827******1705</td>\n",
       "      <td>0</td>\n",
       "      <td>madrugada</td>\n",
       "      <td>Sexta-feira</td>\n",
       "      <td>1</td>\n",
       "      <td>5</td>\n",
       "      <td>48827</td>\n",
       "    </tr>\n",
       "    <tr>\n",
       "      <th>4</th>\n",
       "      <td>2015-05-01</td>\n",
       "      <td>132.00</td>\n",
       "      <td>531681******9778</td>\n",
       "      <td>0</td>\n",
       "      <td>madrugada</td>\n",
       "      <td>Sexta-feira</td>\n",
       "      <td>1</td>\n",
       "      <td>5</td>\n",
       "      <td>31681</td>\n",
       "    </tr>\n",
       "    <tr>\n",
       "      <th>5</th>\n",
       "      <td>2015-05-01</td>\n",
       "      <td>161.00</td>\n",
       "      <td>515117******4107</td>\n",
       "      <td>0</td>\n",
       "      <td>madrugada</td>\n",
       "      <td>Sexta-feira</td>\n",
       "      <td>1</td>\n",
       "      <td>5</td>\n",
       "      <td>15117</td>\n",
       "    </tr>\n",
       "    <tr>\n",
       "      <th>6</th>\n",
       "      <td>2015-05-01</td>\n",
       "      <td>110.00</td>\n",
       "      <td>432032******9111</td>\n",
       "      <td>0</td>\n",
       "      <td>dia</td>\n",
       "      <td>Sexta-feira</td>\n",
       "      <td>1</td>\n",
       "      <td>4</td>\n",
       "      <td>32032</td>\n",
       "    </tr>\n",
       "    <tr>\n",
       "      <th>7</th>\n",
       "      <td>2015-05-01</td>\n",
       "      <td>159.50</td>\n",
       "      <td>544540******7141</td>\n",
       "      <td>0</td>\n",
       "      <td>dia</td>\n",
       "      <td>Sexta-feira</td>\n",
       "      <td>1</td>\n",
       "      <td>5</td>\n",
       "      <td>44540</td>\n",
       "    </tr>\n",
       "    <tr>\n",
       "      <th>8</th>\n",
       "      <td>2015-05-01</td>\n",
       "      <td>126.50</td>\n",
       "      <td>554906******0358</td>\n",
       "      <td>1</td>\n",
       "      <td>dia</td>\n",
       "      <td>Sexta-feira</td>\n",
       "      <td>1</td>\n",
       "      <td>5</td>\n",
       "      <td>54906</td>\n",
       "    </tr>\n",
       "    <tr>\n",
       "      <th>9</th>\n",
       "      <td>2015-05-01</td>\n",
       "      <td>126.50</td>\n",
       "      <td>554906******0358</td>\n",
       "      <td>1</td>\n",
       "      <td>dia</td>\n",
       "      <td>Sexta-feira</td>\n",
       "      <td>1</td>\n",
       "      <td>5</td>\n",
       "      <td>54906</td>\n",
       "    </tr>\n",
       "  </tbody>\n",
       "</table>\n",
       "</div>"
      ],
      "text/plain": [
       "         Dia   Valor            Cartão  CBK periodo_do_dia dia_da_semana  \\\n",
       "0 2015-05-01   36.54  536518******2108    0      madrugada   Sexta-feira   \n",
       "1 2015-05-01   36.54  536518******2108    0      madrugada   Sexta-feira   \n",
       "2 2015-05-01   69.00  453211******1239    0      madrugada   Sexta-feira   \n",
       "3 2015-05-01  193.43  548827******1705    0      madrugada   Sexta-feira   \n",
       "4 2015-05-01  132.00  531681******9778    0      madrugada   Sexta-feira   \n",
       "5 2015-05-01  161.00  515117******4107    0      madrugada   Sexta-feira   \n",
       "6 2015-05-01  110.00  432032******9111    0            dia   Sexta-feira   \n",
       "7 2015-05-01  159.50  544540******7141    0            dia   Sexta-feira   \n",
       "8 2015-05-01  126.50  554906******0358    1            dia   Sexta-feira   \n",
       "9 2015-05-01  126.50  554906******0358    1            dia   Sexta-feira   \n",
       "\n",
       "   flag_feriado bandeira_cartao emissor_cartao  \n",
       "0             1               5          36518  \n",
       "1             1               5          36518  \n",
       "2             1               4          53211  \n",
       "3             1               5          48827  \n",
       "4             1               5          31681  \n",
       "5             1               5          15117  \n",
       "6             1               4          32032  \n",
       "7             1               5          44540  \n",
       "8             1               5          54906  \n",
       "9             1               5          54906  "
      ]
     },
     "execution_count": 20,
     "metadata": {},
     "output_type": "execute_result"
    }
   ],
   "source": [
    "df_aba1.head(10)"
   ]
  },
  {
   "cell_type": "code",
   "execution_count": 21,
   "metadata": {},
   "outputs": [],
   "source": [
    "df_aba1.to_csv('../data/processed/card_transactions_cbk_prepared.csv', index=False)"
   ]
  }
 ],
 "metadata": {
  "kernelspec": {
   "display_name": ".venv",
   "language": "python",
   "name": "python3"
  },
  "language_info": {
   "codemirror_mode": {
    "name": "ipython",
    "version": 3
   },
   "file_extension": ".py",
   "mimetype": "text/x-python",
   "name": "python",
   "nbconvert_exporter": "python",
   "pygments_lexer": "ipython3",
   "version": "3.9.2"
  }
 },
 "nbformat": 4,
 "nbformat_minor": 2
}
